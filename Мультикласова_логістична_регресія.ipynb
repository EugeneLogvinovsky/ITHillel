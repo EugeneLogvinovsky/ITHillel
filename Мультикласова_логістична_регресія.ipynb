{
  "nbformat": 4,
  "nbformat_minor": 0,
  "metadata": {
    "colab": {
      "name": "Мультикласова логістична регресія.ipynb",
      "provenance": [],
      "authorship_tag": "ABX9TyNrnK1bctW99X/6ittCb3hb",
      "include_colab_link": true
    },
    "kernelspec": {
      "name": "python3",
      "display_name": "Python 3"
    }
  },
  "cells": [
    {
      "cell_type": "markdown",
      "metadata": {
        "id": "view-in-github",
        "colab_type": "text"
      },
      "source": [
        "<a href=\"https://colab.research.google.com/github/EugeneLogvinovsky/ITHillel/blob/main/%D0%9C%D1%83%D0%BB%D1%8C%D1%82%D0%B8%D0%BA%D0%BB%D0%B0%D1%81%D0%BE%D0%B2%D0%B0_%D0%BB%D0%BE%D0%B3%D1%96%D1%81%D1%82%D0%B8%D1%87%D0%BD%D0%B0_%D1%80%D0%B5%D0%B3%D1%80%D0%B5%D1%81%D1%96%D1%8F.ipynb\" target=\"_parent\"><img src=\"https://colab.research.google.com/assets/colab-badge.svg\" alt=\"Open In Colab\"/></a>"
      ]
    },
    {
      "cell_type": "code",
      "metadata": {
        "id": "lREUW4DbiRp6"
      },
      "source": [
        "%matplotlib inline\n",
        "import pandas as pd\n",
        "import numpy as np\n",
        "import matplotlib.pyplot as plt\n",
        "plt.rcParams[\"figure.figsize\"] = (5, 3) # (w, h)\n",
        "plt.rcParams[\"figure.dpi\"] = 200\n",
        "np.random.seed(42)"
      ],
      "execution_count": 1,
      "outputs": []
    },
    {
      "cell_type": "code",
      "metadata": {
        "id": "HCcxj2wVib99"
      },
      "source": [
        "def sigmoid(z):\n",
        "    return 1 / (1 + np.exp(-z))"
      ],
      "execution_count": 2,
      "outputs": []
    },
    {
      "cell_type": "code",
      "metadata": {
        "colab": {
          "base_uri": "https://localhost:8080/",
          "height": 281
        },
        "id": "Zt0WWKCaielU",
        "outputId": "cad2c427-de69-4f7c-c544-09d0626fbfea"
      },
      "source": [
        "x = np.linspace(-10, 10, 200)\n",
        "plt.plot(x, sigmoid(x))\n",
        "plt.axvline(x=0, color='k', linestyle='--');\n",
        "plt.title(\"Sigmoid\");"
      ],
      "execution_count": 3,
      "outputs": [
        {
          "output_type": "display_data",
          "data": {
            "image/png": "[encoded data removed]",
            "text/plain": [
              "<Figure size 432x288 with 1 Axes>"
            ]
          },
          "metadata": {
            "tags": [],
            "needs_background": "light"
          }
        }
      ]
    },
    {
      "cell_type": "code",
      "metadata": {
        "id": "XQdhIDYUilj7"
      },
      "source": [
        "\n",
        "def cost(theta, x, y):\n",
        "    h = sigmoid(x @ theta)\n",
        "    m = len(y)\n",
        "    cost = 1 / m * np.sum(\n",
        "        -y * np.log(h) - (1 - y) * np.log(1 - h)\n",
        "    )\n",
        "    grad = 1 / m * ((y - h) @ x.T)\n",
        "    return cost, grad"
      ],
      "execution_count": 88,
      "outputs": []
    },
    {
      "cell_type": "code",
      "metadata": {
        "id": "bD-JnNViiozU"
      },
      "source": [
        "def fit(x, y, max_iter=5000, alpha=0.1):\n",
        "    #x = np.insert(x, 0, 1, axis=0)\n",
        "    \n",
        "    thetas = []\n",
        "    classes = np.unique(y)\n",
        "    costs = np.zeros(max_iter)\n",
        "\n",
        "    for c in classes:\n",
        "        #Один против всех\n",
        "        binary_y = np.where(y == c, 1, 0)\n",
        "        \n",
        "        theta = np.zeros(x.shape)\n",
        "        for epoch in range(max_iter):\n",
        "            costs[epoch], grad = cost(theta, x, binary_y)\n",
        "            theta += alpha * grad\n",
        "            \n",
        "        thetas.append(theta)\n",
        "    return thetas, classes, costs"
      ],
      "execution_count": 90,
      "outputs": []
    },
    {
      "cell_type": "code",
      "metadata": {
        "id": "SD5srF37irw7"
      },
      "source": [
        "def predict(classes, thetas, x):\n",
        "    #x = np.insert(x, 0, 1, axis=0)\n",
        "    preds = [np.argmax(\n",
        "        [sigmoid(xi @ theta) for theta in thetas]\n",
        "    ) for xi in x]\n",
        "    return [classes[p] for p in preds]"
      ],
      "execution_count": 92,
      "outputs": []
    },
    {
      "cell_type": "code",
      "metadata": {
        "colab": {
          "base_uri": "https://localhost:8080/"
        },
        "id": "BCRf9bAejRC0",
        "outputId": "5b073aa5-8892-4e1a-a79a-36f7d3ec7933"
      },
      "source": [
        "!pip install torch torchvision"
      ],
      "execution_count": 7,
      "outputs": [
        {
          "output_type": "stream",
          "text": [
            "Requirement already satisfied: torch in /usr/local/lib/python3.6/dist-packages (1.7.0+cu101)\n",
            "Requirement already satisfied: torchvision in /usr/local/lib/python3.6/dist-packages (0.8.1+cu101)\n",
            "Requirement already satisfied: numpy in /usr/local/lib/python3.6/dist-packages (from torch) (1.18.5)\n",
            "Requirement already satisfied: dataclasses in /usr/local/lib/python3.6/dist-packages (from torch) (0.7)\n",
            "Requirement already satisfied: typing-extensions in /usr/local/lib/python3.6/dist-packages (from torch) (3.7.4.3)\n",
            "Requirement already satisfied: future in /usr/local/lib/python3.6/dist-packages (from torch) (0.16.0)\n",
            "Requirement already satisfied: pillow>=4.1.1 in /usr/local/lib/python3.6/dist-packages (from torchvision) (7.0.0)\n"
          ],
          "name": "stdout"
        }
      ]
    },
    {
      "cell_type": "code",
      "metadata": {
        "colab": {
          "base_uri": "https://localhost:8080/"
        },
        "id": "frCmCZUdjXky",
        "outputId": "c6ca03ee-9268-41ec-85c7-2222f2e9ea38"
      },
      "source": [
        "from torchvision import datasets\n",
        "dataset = datasets.MNIST('../data', train = True, download = True)\n",
        "lr = 0.1\n",
        "X = dataset.train_data\n",
        "y = dataset.train_labels\n",
        "#X = X[y <= 1]\n",
        "#y = y[y <= 1]\n",
        "data = np.array(y)\n",
        "np.random.shuffle(data)\n",
        "num_train = int(.8 * len(data))  # 80/20 train/test split\n",
        "x_train, y_train = data[:num_train], data[:num_train]\n",
        "x_test, y_test = data[num_train:-1], data[num_train: -1]\n",
        "\n",
        "print(x_test, y_test)\n"
      ],
      "execution_count": 43,
      "outputs": [
        {
          "output_type": "stream",
          "text": [
            "[8 9 2 ... 9 5 8] [8 9 2 ... 9 5 8]\n",
            "[0 1 2 3 4 5 6 7 8 9]\n"
          ],
          "name": "stdout"
        },
        {
          "output_type": "stream",
          "text": [
            "/usr/local/lib/python3.6/dist-packages/torchvision/datasets/mnist.py:58: UserWarning: train_data has been renamed data\n",
            "  warnings.warn(\"train_data has been renamed data\")\n",
            "/usr/local/lib/python3.6/dist-packages/torchvision/datasets/mnist.py:48: UserWarning: train_labels has been renamed targets\n",
            "  warnings.warn(\"train_labels has been renamed targets\")\n"
          ],
          "name": "stderr"
        }
      ]
    },
    {
      "cell_type": "code",
      "metadata": {
        "id": "J5Jn_EF7mQoo"
      },
      "source": [
        "def score(classes, theta, x, y):\n",
        "    return (predict(classes, theta, x) == y).mean()\n",
        "thetas, classes, costs = fit(x_train, y_train)\n",
        "print(f\"Train Accuracy: {score(classes, thetas, x_train[:2:], y_train):.3f}\")\n",
        "print(f\"Test Accuracy: {score(classes, thetas, x_test[:2:], y_test):.3f}\")"
      ],
      "execution_count": null,
      "outputs": []
    }
  ]
}