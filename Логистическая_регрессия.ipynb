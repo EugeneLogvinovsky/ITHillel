{
  "nbformat": 4,
  "nbformat_minor": 0,
  "metadata": {
    "colab": {
      "name": "Логистическая регрессия.ipynb",
      "provenance": [],
      "collapsed_sections": [],
      "authorship_tag": "ABX9TyOYm0a8b7ns8OkARRDNXucG",
      "include_colab_link": true
    },
    "kernelspec": {
      "name": "python3",
      "display_name": "Python 3"
    }
  },
  "cells": [
    {
      "cell_type": "markdown",
      "metadata": {
        "id": "view-in-github",
        "colab_type": "text"
      },
      "source": [
        "<a href=\"https://colab.research.google.com/github/EugeneLogvinovsky/ITHillel/blob/main/%D0%9B%D0%BE%D0%B3%D0%B8%D1%81%D1%82%D0%B8%D1%87%D0%B5%D1%81%D0%BA%D0%B0%D1%8F_%D1%80%D0%B5%D0%B3%D1%80%D0%B5%D1%81%D1%81%D0%B8%D1%8F.ipynb\" target=\"_parent\"><img src=\"https://colab.research.google.com/assets/colab-badge.svg\" alt=\"Open In Colab\"/></a>"
      ]
    },
    {
      "cell_type": "code",
      "metadata": {
        "id": "RJ5D1NxgVWUz"
      },
      "source": [
        "import numpy as np\n",
        "import torchvision.datasets as dsets\n",
        "import matplotlib.pyplot as plt\n",
        "from sklearn import metrics\n",
        "#import sklearn.metrics.precision_score\n",
        "#import sklearn.metrics.recall_score"
      ],
      "execution_count": 61,
      "outputs": []
    },
    {
      "cell_type": "code",
      "metadata": {
        "id": "rIkh536YVZ3O",
        "colab": {
          "base_uri": "https://localhost:8080/"
        },
        "outputId": "eb9a14b0-7fb4-4e87-b001-59b34ef8acaa"
      },
      "source": [
        "!pip install torch torchvision"
      ],
      "execution_count": 4,
      "outputs": [
        {
          "output_type": "stream",
          "text": [
            "Requirement already satisfied: torch in /usr/local/lib/python3.6/dist-packages (1.7.0+cu101)\n",
            "Requirement already satisfied: torchvision in /usr/local/lib/python3.6/dist-packages (0.8.1+cu101)\n",
            "Requirement already satisfied: numpy in /usr/local/lib/python3.6/dist-packages (from torch) (1.18.5)\n",
            "Requirement already satisfied: future in /usr/local/lib/python3.6/dist-packages (from torch) (0.16.0)\n",
            "Requirement already satisfied: dataclasses in /usr/local/lib/python3.6/dist-packages (from torch) (0.7)\n",
            "Requirement already satisfied: typing-extensions in /usr/local/lib/python3.6/dist-packages (from torch) (3.7.4.3)\n",
            "Requirement already satisfied: pillow>=4.1.1 in /usr/local/lib/python3.6/dist-packages (from torchvision) (7.0.0)\n"
          ],
          "name": "stdout"
        }
      ]
    },
    {
      "cell_type": "code",
      "metadata": {
        "id": "5GTajQdQcplb"
      },
      "source": [
        "def sigmoid(x):\n",
        "  return 1/(1+np.exp(-x))\n",
        "\n",
        "def deriv_sigmoid(x):\n",
        "  fx = sigmoid(x)\n",
        "  return fx * (1-fx)\n",
        "\n",
        "def mse_loss(y, y_pred):\n",
        "  return ((y - y_pred) ** 2).mean()"
      ],
      "execution_count": 5,
      "outputs": []
    },
    {
      "cell_type": "code",
      "metadata": {
        "id": "0I4_EeVsVdt_",
        "colab": {
          "base_uri": "https://localhost:8080/"
        },
        "outputId": "9765149d-ddbb-47d7-edf9-490a4251bfcd"
      },
      "source": [
        "from torchvision import datasets\n",
        "dataset = datasets.MNIST('../data', train = True, download = True)\n",
        "lr = 0.1\n",
        "X = dataset.train_data\n",
        "y = dataset.train_labels\n",
        "X = X[y <= 1]\n",
        "y = y[y <= 1]\n",
        "#print(y[0:10])\n",
        "X = X.reshape((X.shape[0], 784))\n",
        "b = np.random.rand(784, 1)/10000\n",
        "print(X.shape, b.shape)\n",
        "for i in range(10):\n",
        "    z = X @ b\n",
        "    f = sigmoid(z)\n",
        "    db = np.dot(X.T, (y[:, None] - f))\n",
        "    b += lr * db\n",
        "\n",
        "    mse = mse_loss(y, f)\n",
        "\n",
        "    func1 = f >= 0.5\n",
        "\n",
        "    TP = y[func1.reshape(len(func1))]\n",
        "    Precision = TP.sum()/func1.sum()\n",
        "\n",
        "    func2 = f < 0.5\n",
        "    TN = y[func2.reshape(len(func2))]\n",
        "    Recall = TP.sum()/(func2.sum() - TN.sum())\n",
        "\n",
        "print(\"MSE: {}\".format(mse))\n",
        "print(\"Precision: {}\".format(Precision))\n",
        "print(\"Recall : {}\".format(Recall))\n"
      ],
      "execution_count": 70,
      "outputs": [
        {
          "output_type": "stream",
          "text": [
            "/usr/local/lib/python3.6/dist-packages/torchvision/datasets/mnist.py:58: UserWarning: train_data has been renamed data\n",
            "  warnings.warn(\"train_data has been renamed data\")\n",
            "/usr/local/lib/python3.6/dist-packages/torchvision/datasets/mnist.py:48: UserWarning: train_labels has been renamed targets\n",
            "  warnings.warn(\"train_labels has been renamed targets\")\n"
          ],
          "name": "stderr"
        },
        {
          "output_type": "stream",
          "text": [
            "torch.Size([12665, 784]) (784, 1)\n"
          ],
          "name": "stdout"
        },
        {
          "output_type": "stream",
          "text": [
            "/usr/local/lib/python3.6/dist-packages/ipykernel_launcher.py:2: RuntimeWarning: overflow encountered in exp\n",
            "  \n"
          ],
          "name": "stderr"
        },
        {
          "output_type": "stream",
          "text": [
            "MSE: 0.49778658618981125\n",
            "Precision: 0.994383692741394\n",
            "Recall : 1.1432455778121948\n"
          ],
          "name": "stdout"
        }
      ]
    },
    {
      "cell_type": "code",
      "metadata": {
        "id": "yJ6uRXZOfuOn"
      },
      "source": [
        ""
      ],
      "execution_count": null,
      "outputs": []
    },
    {
      "cell_type": "code",
      "metadata": {
        "id": "CaKur-XaZiPJ",
        "colab": {
          "base_uri": "https://localhost:8080/"
        },
        "outputId": "7ae6acfb-3022-467e-8663-d31c995b021f"
      },
      "source": [
        "print(metrics.classification_report(y, f))"
      ],
      "execution_count": 15,
      "outputs": [
        {
          "output_type": "stream",
          "text": [
            "              precision    recall  f1-score   support\n",
            "\n",
            "           0       1.00      0.99      1.00      5923\n",
            "           1       0.99      1.00      1.00      6742\n",
            "\n",
            "    accuracy                           1.00     12665\n",
            "   macro avg       1.00      1.00      1.00     12665\n",
            "weighted avg       1.00      1.00      1.00     12665\n",
            "\n"
          ],
          "name": "stdout"
        }
      ]
    }
  ]
}