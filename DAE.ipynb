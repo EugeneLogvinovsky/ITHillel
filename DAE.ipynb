{
  "nbformat": 4,
  "nbformat_minor": 0,
  "metadata": {
    "colab": {
      "name": "DAE.ipynb",
      "provenance": [],
      "include_colab_link": true
    },
    "kernelspec": {
      "name": "python3",
      "display_name": "Python 3"
    }
  },
  "cells": [
    {
      "cell_type": "markdown",
      "metadata": {
        "id": "view-in-github",
        "colab_type": "text"
      },
      "source": [
        "<a href=\"https://colab.research.google.com/github/EugeneLogvinovsky/ITHillel/blob/main/DAE.ipynb\" target=\"_parent\"><img src=\"https://colab.research.google.com/assets/colab-badge.svg\" alt=\"Open In Colab\"/></a>"
      ]
    },
    {
      "cell_type": "code",
      "metadata": {
        "id": "PHfAgx2_LNGV"
      },
      "source": [
        "import numpy as np\r\n",
        "from keras.datasets import fashion_mnist\r\n",
        "import matplotlib.pyplot as plt\r\n",
        "from tqdm import tqdm\r\n",
        "from torchvision import transforms\r\n",
        "import torch.nn as nn\r\n",
        "from torch.utils.data import DataLoader,Dataset\r\n",
        "import torch\r\n",
        "import torch.optim as optim\r\n",
        "from torch.autograd import Variable"
      ],
      "execution_count": 2,
      "outputs": []
    },
    {
      "cell_type": "code",
      "metadata": {
        "id": "MfE-FObsLU9s"
      },
      "source": [
        "\"\"\"\r\n",
        "Here we load the dataset, add gaussian,poisson,speckle\r\n",
        "\r\n",
        "    'gauss'     Gaussian-distributed additive noise.\r\n",
        "    'speckle'   Multiplicative noise using out = image + n*image,where\r\n",
        "                n is uniform noise with specified mean & variance.\r\n",
        "                \r\n",
        "We define a function that adds each noise when called from main function\r\n",
        "Input & Output: np array\r\n",
        "                \r\n",
        "\"\"\"\r\n",
        "\r\n",
        "\r\n",
        "def add_noise(img,noise_type=\"gaussian\"):\r\n",
        "  \r\n",
        "  row,col=28,28\r\n",
        "  img=img.astype(np.float32)\r\n",
        "  \r\n",
        "  if noise_type==\"gaussian\":\r\n",
        "    mean=0\r\n",
        "    var=10\r\n",
        "    sigma=var**.5\r\n",
        "    noise=np.random.normal(-5.9,5.9,img.shape)\r\n",
        "    noise=noise.reshape(row,col)\r\n",
        "    img=img+noise\r\n",
        "    return img\r\n",
        "\r\n",
        "  if noise_type==\"speckle\":\r\n",
        "    noise=np.random.randn(row,col)\r\n",
        "    noise=noise.reshape(row,col)\r\n",
        "    img=img+img*noise\r\n",
        "    return img"
      ],
      "execution_count": 3,
      "outputs": []
    },
    {
      "cell_type": "code",
      "metadata": {
        "colab": {
          "base_uri": "https://localhost:8080/"
        },
        "id": "jggvlj6gLZZj",
        "outputId": "13f35283-6449-424a-9dbc-cfa4052fd8c5"
      },
      "source": [
        "#Here we load the dataset from keras\r\n",
        "(xtrain,ytrain),(xtest,ytest)=fashion_mnist.load_data()\r\n",
        "print(\"No of training datapoints:{}\\nNo of Test datapoints:{}\".format(len(xtrain),len(xtest)))"
      ],
      "execution_count": 4,
      "outputs": [
        {
          "output_type": "stream",
          "text": [
            "Downloading data from https://storage.googleapis.com/tensorflow/tf-keras-datasets/train-labels-idx1-ubyte.gz\n",
            "32768/29515 [=================================] - 0s 0us/step\n",
            "Downloading data from https://storage.googleapis.com/tensorflow/tf-keras-datasets/train-images-idx3-ubyte.gz\n",
            "26427392/26421880 [==============================] - 0s 0us/step\n",
            "Downloading data from https://storage.googleapis.com/tensorflow/tf-keras-datasets/t10k-labels-idx1-ubyte.gz\n",
            "8192/5148 [===============================================] - 0s 0us/step\n",
            "Downloading data from https://storage.googleapis.com/tensorflow/tf-keras-datasets/t10k-images-idx3-ubyte.gz\n",
            "4423680/4422102 [==============================] - 0s 0us/step\n",
            "No of training datapoints:60000\n",
            "No of Test datapoints:10000\n"
          ],
          "name": "stdout"
        }
      ]
    },
    {
      "cell_type": "code",
      "metadata": {
        "colab": {
          "base_uri": "https://localhost:8080/"
        },
        "id": "TAkKJ4WpLedb",
        "outputId": "563bcd8d-4d5e-4bce-e6fe-155db9f6a18f"
      },
      "source": [
        "\"\"\"\r\n",
        "From here onwards,we split the 60k training datapoints into 3 sets each given one type of each noise.\r\n",
        "We shuffle them for better generalization.\r\n",
        "\"\"\"\r\n",
        "noises=[\"gaussian\",\"speckle\"]\r\n",
        "noise_ct=0\r\n",
        "noise_id=0\r\n",
        "traindata=np.zeros((60000,28,28))\r\n",
        "\r\n",
        "\r\n",
        "\r\n",
        "for idx in tqdm(range(len(xtrain))):\r\n",
        "  \r\n",
        "  if noise_ct<(len(xtrain)/2):\r\n",
        "    noise_ct+=1\r\n",
        "    traindata[idx]=add_noise(xtrain[idx],noise_type=noises[noise_id])\r\n",
        "    \r\n",
        "  else:\r\n",
        "    print(\"\\n{} noise addition completed to images\".format(noises[noise_id]))\r\n",
        "    noise_id+=1\r\n",
        "    noise_ct=0\r\n",
        "\r\n",
        "\r\n",
        "print(\"\\n{} noise addition completed to images\".format(noises[noise_id])) \r\n",
        "\r\n",
        "\r\n",
        "\r\n",
        "\r\n",
        "noise_ct=0\r\n",
        "noise_id=0\r\n",
        "testdata=np.zeros((10000,28,28))\r\n",
        "\r\n",
        "for idx in tqdm(range(len(xtest))):\r\n",
        "  \r\n",
        "  if noise_ct<(len(xtest)/2):\r\n",
        "    noise_ct+=1\r\n",
        "    x=add_noise(xtest[idx],noise_type=noises[noise_id])\r\n",
        "    testdata[idx]=x\r\n",
        "    \r\n",
        "  else:\r\n",
        "    print(\"\\n{} noise addition completed to images\".format(noises[noise_id]))\r\n",
        "    noise_id+=1\r\n",
        "    noise_ct=0\r\n",
        "\r\n",
        "\r\n",
        "print(\"\\n{} noise addition completed to images\".format(noises[noise_id]))"
      ],
      "execution_count": 5,
      "outputs": [
        {
          "output_type": "stream",
          "text": [
            " 56%|█████▋    | 33880/60000 [00:01<00:01, 21518.70it/s]"
          ],
          "name": "stderr"
        },
        {
          "output_type": "stream",
          "text": [
            "\n",
            "gaussian noise addition completed to images\n"
          ],
          "name": "stdout"
        },
        {
          "output_type": "stream",
          "text": [
            "100%|██████████| 60000/60000 [00:02<00:00, 21544.55it/s]\n",
            " 22%|██▏       | 2180/10000 [00:00<00:00, 21797.32it/s]"
          ],
          "name": "stderr"
        },
        {
          "output_type": "stream",
          "text": [
            "\n",
            "speckle noise addition completed to images\n"
          ],
          "name": "stdout"
        },
        {
          "output_type": "stream",
          "text": [
            " 88%|████████▊ | 8788/10000 [00:00<00:00, 22022.30it/s]"
          ],
          "name": "stderr"
        },
        {
          "output_type": "stream",
          "text": [
            "\n",
            "gaussian noise addition completed to images\n"
          ],
          "name": "stdout"
        },
        {
          "output_type": "stream",
          "text": [
            "\r100%|██████████| 10000/10000 [00:00<00:00, 21814.18it/s]"
          ],
          "name": "stderr"
        },
        {
          "output_type": "stream",
          "text": [
            "\n",
            "speckle noise addition completed to images\n"
          ],
          "name": "stdout"
        },
        {
          "output_type": "stream",
          "text": [
            "\n"
          ],
          "name": "stderr"
        }
      ]
    },
    {
      "cell_type": "code",
      "metadata": {
        "colab": {
          "base_uri": "https://localhost:8080/",
          "height": 298
        },
        "id": "VJfdrWRQLkhb",
        "outputId": "e0b80194-c1ca-4308-bcba-9d452e019b65"
      },
      "source": [
        "\"\"\"\r\n",
        "Here we Try to visualize, each type of noise that was introduced in the images\r\n",
        "Along with their original versions\r\n",
        "\r\n",
        "\"\"\"\r\n",
        "\r\n",
        "f, axes=plt.subplots(2,2)\r\n",
        "\r\n",
        "#showing images with gaussian noise\r\n",
        "axes[0,0].imshow(xtrain[0],cmap=\"gray\")\r\n",
        "axes[0,0].set_title(\"Original Image\")\r\n",
        "axes[1,0].imshow(traindata[0],cmap='gray')\r\n",
        "axes[1,0].set_title(\"Noised Image\")\r\n",
        "\r\n",
        "#showing images with speckle noise\r\n",
        "axes[0,1].imshow(xtrain[25000],cmap='gray')\r\n",
        "axes[0,1].set_title(\"Original Image\")\r\n",
        "axes[1,1].imshow(traindata[25000],cmap=\"gray\")\r\n",
        "axes[1,1].set_title(\"Noised Image\")"
      ],
      "execution_count": 6,
      "outputs": [
        {
          "output_type": "execute_result",
          "data": {
            "text/plain": [
              "Text(0.5, 1.0, 'Noised Image')"
            ]
          },
          "metadata": {
            "tags": []
          },
          "execution_count": 6
        },
        {
          "output_type": "display_data",
          "data": {
            "image/png": "[encoded data removed]",
            "text/plain": [
              "<Figure size 432x288 with 4 Axes>"
            ]
          },
          "metadata": {
            "tags": [],
            "needs_background": "light"
          }
        }
      ]
    },
    {
      "cell_type": "code",
      "metadata": {
        "id": "cWdCBI_pLq7S"
      },
      "source": [
        "class noisedDataset(Dataset):\r\n",
        "  \r\n",
        "  def __init__(self,datasetnoised,datasetclean,labels,transform):\r\n",
        "    self.noise=datasetnoised\r\n",
        "    self.clean=datasetclean\r\n",
        "    self.labels=labels\r\n",
        "    self.transform=transform\r\n",
        "  \r\n",
        "  def __len__(self):\r\n",
        "    return len(self.noise)\r\n",
        "  \r\n",
        "  def __getitem__(self,idx):\r\n",
        "    xNoise=self.noise[idx]\r\n",
        "    xClean=self.clean[idx]\r\n",
        "    y=self.labels[idx]\r\n",
        "    \r\n",
        "    if self.transform != None:\r\n",
        "      xNoise=self.transform(xNoise)\r\n",
        "      xClean=self.transform(xClean)\r\n",
        "      \r\n",
        "    \r\n",
        "    return (xNoise,xClean,y)"
      ],
      "execution_count": 7,
      "outputs": []
    },
    {
      "cell_type": "code",
      "metadata": {
        "id": "bTGiv1xvLvhS"
      },
      "source": [
        "tsfms=transforms.Compose([\r\n",
        "    transforms.ToTensor()\r\n",
        "])\r\n",
        "\r\n",
        "trainset=noisedDataset(traindata,xtrain,ytrain,tsfms)\r\n",
        "testset=noisedDataset(testdata,xtest,ytest,tsfms)"
      ],
      "execution_count": 8,
      "outputs": []
    },
    {
      "cell_type": "code",
      "metadata": {
        "id": "06s3NKZWLyX6"
      },
      "source": [
        "\"\"\"\r\n",
        "Here , we create the trainloaders and testloaders.\r\n",
        "Also, we transform the images using standard lib functions\r\n",
        "\"\"\"\r\n",
        "\r\n",
        "\r\n",
        "batch_size=32\r\n",
        "\r\n",
        "\r\n",
        "\r\n",
        "trainloader=DataLoader(trainset,batch_size=32,shuffle=True)\r\n",
        "testloader=DataLoader(testset,batch_size=1,shuffle=True)"
      ],
      "execution_count": 9,
      "outputs": []
    },
    {
      "cell_type": "code",
      "metadata": {
        "id": "bXnEVEo-L3Aa"
      },
      "source": [
        "\"\"\"\r\n",
        "Here, we define the autoencoder model.\r\n",
        "\"\"\"\r\n",
        "\r\n",
        "class denoising_model(nn.Module):\r\n",
        "  def __init__(self):\r\n",
        "    super(denoising_model,self).__init__()\r\n",
        "    self.encoder=nn.Sequential(\r\n",
        "                  nn.Linear(28*28,256),\r\n",
        "                  nn.ReLU(True),\r\n",
        "                  nn.Linear(256,128),\r\n",
        "                  nn.ReLU(True),\r\n",
        "                  nn.Linear(128,64),\r\n",
        "                  nn.ReLU(True)\r\n",
        "        \r\n",
        "                  )\r\n",
        "    \r\n",
        "    self.decoder=nn.Sequential(\r\n",
        "                  nn.Linear(64,128),\r\n",
        "                  nn.ReLU(True),\r\n",
        "                  nn.Linear(128,256),\r\n",
        "                  nn.ReLU(True),\r\n",
        "                  nn.Linear(256,28*28),\r\n",
        "                  nn.Sigmoid(),\r\n",
        "                  )\r\n",
        "    \r\n",
        " \r\n",
        "  def forward(self,x):\r\n",
        "    x=self.encoder(x)\r\n",
        "    x=self.decoder(x)\r\n",
        "    \r\n",
        "    return x"
      ],
      "execution_count": 10,
      "outputs": []
    },
    {
      "cell_type": "code",
      "metadata": {
        "colab": {
          "base_uri": "https://localhost:8080/"
        },
        "id": "iLTMoUOnL7Oa",
        "outputId": "5399889a-1622-4685-ced7-f239889bc910"
      },
      "source": [
        "#We check whether cuda is available and choose device accordingly\r\n",
        "if torch.cuda.is_available()==True:\r\n",
        "  device=\"cuda:0\"\r\n",
        "else:\r\n",
        "  device =\"cpu\"\r\n",
        "\r\n",
        "  \r\n",
        "model=denoising_model().to(device)\r\n",
        "criterion=nn.MSELoss()\r\n",
        "optimizer=optim.SGD(model.parameters(),lr=0.01,weight_decay=1e-5)\r\n",
        "\r\n",
        "\r\n",
        "epochs=15\r\n",
        "l=len(trainloader)\r\n",
        "losslist=list()\r\n",
        "epochloss=0\r\n",
        "running_loss=0\r\n",
        "for epoch in range(epochs):\r\n",
        "  \r\n",
        "  print(\"Entering Epoch: \",epoch)\r\n",
        "  for dirty,clean,label in tqdm((trainloader)):\r\n",
        "    \r\n",
        "    \r\n",
        "    dirty=dirty.view(dirty.size(0),-1).type(torch.FloatTensor)\r\n",
        "    clean=clean.view(clean.size(0),-1).type(torch.FloatTensor)\r\n",
        "    dirty,clean=dirty.to(device),clean.to(device)\r\n",
        "    \r\n",
        "    \r\n",
        "    \r\n",
        "    #-----------------Forward Pass----------------------\r\n",
        "    output=model(dirty)\r\n",
        "    loss=criterion(output,clean)\r\n",
        "    #-----------------Backward Pass---------------------\r\n",
        "    optimizer.zero_grad()\r\n",
        "    loss.backward()\r\n",
        "    optimizer.step()\r\n",
        "    \r\n",
        "    running_loss+=loss.item()\r\n",
        "    epochloss+=loss.item()\r\n",
        "  #-----------------Log-------------------------------\r\n",
        "  losslist.append(running_loss/l)\r\n",
        "  running_loss=0\r\n",
        "  print(\"======> epoch: {}/{}, Loss:{}\".format(epoch,epochs,loss.item()))"
      ],
      "execution_count": 11,
      "outputs": [
        {
          "output_type": "stream",
          "text": [
            "  0%|          | 0/1875 [00:00<?, ?it/s]/usr/local/lib/python3.6/dist-packages/torchvision/transforms/functional.py:74: UserWarning: The given NumPy array is not writeable, and PyTorch does not support non-writeable tensors. This means you can write to the underlying (supposedly non-writeable) NumPy array using the tensor. You may want to copy the array to protect its data or make it writeable before converting it to a tensor. This type of warning will be suppressed for the rest of this program. (Triggered internally at  /pytorch/torch/csrc/utils/tensor_numpy.cpp:141.)\n",
            "  img = torch.from_numpy(pic.transpose((2, 0, 1))).contiguous()\n",
            "  0%|          | 1/1875 [00:00<04:14,  7.37it/s]"
          ],
          "name": "stderr"
        },
        {
          "output_type": "stream",
          "text": [
            "Entering Epoch:  0\n"
          ],
          "name": "stdout"
        },
        {
          "output_type": "stream",
          "text": [
            "100%|██████████| 1875/1875 [00:11<00:00, 161.57it/s]\n",
            "  1%|          | 16/1875 [00:00<00:11, 155.43it/s]"
          ],
          "name": "stderr"
        },
        {
          "output_type": "stream",
          "text": [
            "======> epoch: 0/15, Loss:0.09644515812397003\n",
            "Entering Epoch:  1\n"
          ],
          "name": "stdout"
        },
        {
          "output_type": "stream",
          "text": [
            "100%|██████████| 1875/1875 [00:11<00:00, 165.04it/s]\n",
            "  1%|          | 16/1875 [00:00<00:12, 153.99it/s]"
          ],
          "name": "stderr"
        },
        {
          "output_type": "stream",
          "text": [
            "======> epoch: 1/15, Loss:0.08108581602573395\n",
            "Entering Epoch:  2\n"
          ],
          "name": "stdout"
        },
        {
          "output_type": "stream",
          "text": [
            "100%|██████████| 1875/1875 [00:11<00:00, 163.60it/s]\n",
            "  1%|          | 18/1875 [00:00<00:10, 170.78it/s]"
          ],
          "name": "stderr"
        },
        {
          "output_type": "stream",
          "text": [
            "======> epoch: 2/15, Loss:0.06153418496251106\n",
            "Entering Epoch:  3\n"
          ],
          "name": "stdout"
        },
        {
          "output_type": "stream",
          "text": [
            "100%|██████████| 1875/1875 [00:11<00:00, 168.94it/s]\n",
            "  1%|          | 18/1875 [00:00<00:10, 172.76it/s]"
          ],
          "name": "stderr"
        },
        {
          "output_type": "stream",
          "text": [
            "======> epoch: 3/15, Loss:0.05911945179104805\n",
            "Entering Epoch:  4\n"
          ],
          "name": "stdout"
        },
        {
          "output_type": "stream",
          "text": [
            "100%|██████████| 1875/1875 [00:10<00:00, 173.61it/s]\n",
            "  1%|          | 17/1875 [00:00<00:11, 167.16it/s]"
          ],
          "name": "stderr"
        },
        {
          "output_type": "stream",
          "text": [
            "======> epoch: 4/15, Loss:0.052245136350393295\n",
            "Entering Epoch:  5\n"
          ],
          "name": "stdout"
        },
        {
          "output_type": "stream",
          "text": [
            "100%|██████████| 1875/1875 [00:12<00:00, 154.67it/s]\n",
            "  1%|          | 14/1875 [00:00<00:13, 138.70it/s]"
          ],
          "name": "stderr"
        },
        {
          "output_type": "stream",
          "text": [
            "======> epoch: 5/15, Loss:0.05425048992037773\n",
            "Entering Epoch:  6\n"
          ],
          "name": "stdout"
        },
        {
          "output_type": "stream",
          "text": [
            "100%|██████████| 1875/1875 [00:12<00:00, 146.73it/s]\n",
            "  1%|          | 15/1875 [00:00<00:13, 142.60it/s]"
          ],
          "name": "stderr"
        },
        {
          "output_type": "stream",
          "text": [
            "======> epoch: 6/15, Loss:0.049568768590688705\n",
            "Entering Epoch:  7\n"
          ],
          "name": "stdout"
        },
        {
          "output_type": "stream",
          "text": [
            "100%|██████████| 1875/1875 [00:13<00:00, 142.61it/s]\n",
            "  1%|          | 15/1875 [00:00<00:12, 144.72it/s]"
          ],
          "name": "stderr"
        },
        {
          "output_type": "stream",
          "text": [
            "======> epoch: 7/15, Loss:0.05117160826921463\n",
            "Entering Epoch:  8\n"
          ],
          "name": "stdout"
        },
        {
          "output_type": "stream",
          "text": [
            "100%|██████████| 1875/1875 [00:12<00:00, 151.24it/s]\n",
            "  1%|          | 18/1875 [00:00<00:10, 174.27it/s]"
          ],
          "name": "stderr"
        },
        {
          "output_type": "stream",
          "text": [
            "======> epoch: 8/15, Loss:0.04636489227414131\n",
            "Entering Epoch:  9\n"
          ],
          "name": "stdout"
        },
        {
          "output_type": "stream",
          "text": [
            "100%|██████████| 1875/1875 [00:12<00:00, 153.88it/s]\n",
            "  1%|          | 16/1875 [00:00<00:11, 154.95it/s]"
          ],
          "name": "stderr"
        },
        {
          "output_type": "stream",
          "text": [
            "======> epoch: 9/15, Loss:0.05626548081636429\n",
            "Entering Epoch:  10\n"
          ],
          "name": "stdout"
        },
        {
          "output_type": "stream",
          "text": [
            "100%|██████████| 1875/1875 [00:12<00:00, 155.15it/s]\n",
            "  1%|          | 14/1875 [00:00<00:13, 139.55it/s]"
          ],
          "name": "stderr"
        },
        {
          "output_type": "stream",
          "text": [
            "======> epoch: 10/15, Loss:0.0469789020717144\n",
            "Entering Epoch:  11\n"
          ],
          "name": "stdout"
        },
        {
          "output_type": "stream",
          "text": [
            "100%|██████████| 1875/1875 [00:11<00:00, 161.48it/s]\n",
            "  1%|          | 13/1875 [00:00<00:14, 129.61it/s]"
          ],
          "name": "stderr"
        },
        {
          "output_type": "stream",
          "text": [
            "======> epoch: 11/15, Loss:0.04508296400308609\n",
            "Entering Epoch:  12\n"
          ],
          "name": "stdout"
        },
        {
          "output_type": "stream",
          "text": [
            "100%|██████████| 1875/1875 [00:11<00:00, 158.91it/s]\n",
            "  1%|          | 17/1875 [00:00<00:11, 165.24it/s]"
          ],
          "name": "stderr"
        },
        {
          "output_type": "stream",
          "text": [
            "======> epoch: 12/15, Loss:0.043564874678850174\n",
            "Entering Epoch:  13\n"
          ],
          "name": "stdout"
        },
        {
          "output_type": "stream",
          "text": [
            "100%|██████████| 1875/1875 [00:11<00:00, 159.17it/s]\n",
            "  1%|          | 16/1875 [00:00<00:12, 152.38it/s]"
          ],
          "name": "stderr"
        },
        {
          "output_type": "stream",
          "text": [
            "======> epoch: 13/15, Loss:0.04408979043364525\n",
            "Entering Epoch:  14\n"
          ],
          "name": "stdout"
        },
        {
          "output_type": "stream",
          "text": [
            "100%|██████████| 1875/1875 [00:11<00:00, 162.30it/s]"
          ],
          "name": "stderr"
        },
        {
          "output_type": "stream",
          "text": [
            "======> epoch: 14/15, Loss:0.04395805671811104\n"
          ],
          "name": "stdout"
        },
        {
          "output_type": "stream",
          "text": [
            "\n"
          ],
          "name": "stderr"
        }
      ]
    },
    {
      "cell_type": "code",
      "metadata": {
        "colab": {
          "base_uri": "https://localhost:8080/",
          "height": 282
        },
        "id": "7SBJbCMdMmcp",
        "outputId": "38ea3513-a531-4deb-f03d-efb9e3f42bda"
      },
      "source": [
        "plt.plot(range(len(losslist)),losslist)"
      ],
      "execution_count": 12,
      "outputs": [
        {
          "output_type": "execute_result",
          "data": {
            "text/plain": [
              "[<matplotlib.lines.Line2D at 0x7f881a16def0>]"
            ]
          },
          "metadata": {
            "tags": []
          },
          "execution_count": 12
        },
        {
          "output_type": "display_data",
          "data": {
            "image/png": "[encoded data removed]",
            "text/plain": [
              "<Figure size 432x288 with 1 Axes>"
            ]
          },
          "metadata": {
            "tags": [],
            "needs_background": "light"
          }
        }
      ]
    },
    {
      "cell_type": "code",
      "metadata": {
        "colab": {
          "base_uri": "https://localhost:8080/",
          "height": 1000
        },
        "id": "L-ppRvFWMupR",
        "outputId": "5ba99efc-8be6-4b1f-be20-b6b14e06967b"
      },
      "source": [
        "\"\"\"Here, we try to visualize some of the results.\r\n",
        "  We randomly generate 6 numbers in between 1 and 10k , run them through the model,\r\n",
        "  and show the results with comparisons\r\n",
        "  \r\n",
        " \"\"\"\r\n",
        "\r\n",
        "\r\n",
        "\r\n",
        "\r\n",
        "f,axes= plt.subplots(6,3,figsize=(20,20))\r\n",
        "axes[0,0].set_title(\"Original Image\")\r\n",
        "axes[0,1].set_title(\"Dirty Image\")\r\n",
        "axes[0,2].set_title(\"Cleaned Image\")\r\n",
        "\r\n",
        "test_imgs=np.random.randint(0,10000,size=6)\r\n",
        "for idx in range((6)):\r\n",
        "  dirty=testset[test_imgs[idx]][0]\r\n",
        "  clean=testset[test_imgs[idx]][1]\r\n",
        "  label=testset[test_imgs[idx]][2]\r\n",
        "  dirty=dirty.view(dirty.size(0),-1).type(torch.FloatTensor)\r\n",
        "  dirty=dirty.to(device)\r\n",
        "  output=model(dirty)\r\n",
        "  \r\n",
        "  output=output.view(1,28,28)\r\n",
        "  output=output.permute(1,2,0).squeeze(2)\r\n",
        "  output=output.detach().cpu().numpy()\r\n",
        "  \r\n",
        "  dirty=dirty.view(1,28,28)\r\n",
        "  dirty=dirty.permute(1,2,0).squeeze(2)\r\n",
        "  dirty=dirty.detach().cpu().numpy()\r\n",
        "  \r\n",
        "  clean=clean.permute(1,2,0).squeeze(2)\r\n",
        "  clean=clean.detach().cpu().numpy()\r\n",
        "  \r\n",
        "  axes[idx,0].imshow(clean,cmap=\"gray\")\r\n",
        "  axes[idx,1].imshow(dirty,cmap=\"gray\")\r\n",
        "  axes[idx,2].imshow(output,cmap=\"gray\")"
      ],
      "execution_count": 13,
      "outputs": [
        {
          "output_type": "display_data",
          "data": {
            "image/png": "[encoded data removed]",
            "text/plain": [
              "<Figure size 1440x1440 with 18 Axes>"
            ]
          },
          "metadata": {
            "tags": [],
            "needs_background": "light"
          }
        }
      ]
    }
  ]
}