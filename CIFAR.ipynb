{
  "nbformat": 4,
  "nbformat_minor": 0,
  "metadata": {
    "colab": {
      "name": "CIFAR.ipynb",
      "provenance": [],
      "collapsed_sections": [],
      "authorship_tag": "ABX9TyPYC7s/5BzafpZ6IzVnC94F",
      "include_colab_link": true
    },
    "kernelspec": {
      "name": "python3",
      "display_name": "Python 3"
    }
  },
  "cells": [
    {
      "cell_type": "markdown",
      "metadata": {
        "id": "view-in-github",
        "colab_type": "text"
      },
      "source": [
        "<a href=\"https://colab.research.google.com/github/EugeneLogvinovsky/ITHillel/blob/main/CIFAR.ipynb\" target=\"_parent\"><img src=\"https://colab.research.google.com/assets/colab-badge.svg\" alt=\"Open In Colab\"/></a>"
      ]
    },
    {
      "cell_type": "code",
      "metadata": {
        "id": "KoTZybN3P_Q7"
      },
      "source": [
        "import torch\r\n",
        "import math\r\n",
        "import numpy as np\r\n",
        "from torch import nn, optim\r\n",
        "from torch.utils.data import DataLoader\r\n",
        "from torchvision.datasets import CIFAR10, CIFAR100\r\n",
        "from torchvision.transforms import ToTensor"
      ],
      "execution_count": 53,
      "outputs": []
    },
    {
      "cell_type": "code",
      "metadata": {
        "colab": {
          "base_uri": "https://localhost:8080/"
        },
        "id": "aQErxBVbQb6n",
        "outputId": "4f3a681e-1e25-4711-f86a-80c5adc0e7c3"
      },
      "source": [
        "train_ds = CIFAR10(\"-\", train=True, transform=ToTensor(), download=True)\r\n",
        "val_ds = CIFAR10(\"-\", train=False, transform=ToTensor(), download=True)\r\n",
        "\r\n",
        "train_dl = DataLoader(train_ds, batch_size=128, shuffle=True)\r\n",
        "val_dl = DataLoader(val_ds, batch_size=128)"
      ],
      "execution_count": 74,
      "outputs": [
        {
          "output_type": "stream",
          "text": [
            "Files already downloaded and verified\n",
            "Files already downloaded and verified\n"
          ],
          "name": "stdout"
        }
      ]
    },
    {
      "cell_type": "code",
      "metadata": {
        "id": "RsITrdkpUU8z"
      },
      "source": [
        "class Linear(nn.Module):\r\n",
        "  def __init__(self, in_features, out_features):\r\n",
        "    super(Linear, self).__init__()\r\n",
        "\r\n",
        "    self.in_features = in_features\r\n",
        "    self.weight = nn.Parameter(torch.Tensor(in_features, out_features))\r\n",
        "    self.bias = nn.Parameter(torch.Tensor(out_features))\r\n",
        "\r\n",
        "    self.reset_parametres()\r\n",
        "\r\n",
        "  def reset_parametres(self):\r\n",
        "    std = math.sqrt(2. / self.in_features)\r\n",
        "    nn.init.normal_(self.weight, 0, std)\r\n",
        "    nn.init.zeros_(self.bias)\r\n",
        "\r\n",
        "  def forward(self, x:torch.Tensor) -> torch.Tensor:\r\n",
        "    return x @ self.weight + self.bias\r\n",
        "\r\n",
        "\r\n",
        "class FFN(nn.Module):\r\n",
        "  def __init__(self):\r\n",
        "    super(FFN, self).__init__()\r\n",
        "\r\n",
        "    self.net = nn.Sequential(\r\n",
        "    nn.Flatten(),\r\n",
        "    nn.Linear(32*32*3, 512),\r\n",
        "    nn.ReLU(),\r\n",
        "    \r\n",
        "    nn.Linear(512,512),\r\n",
        "    nn.ReLU(),\r\n",
        "\r\n",
        "    nn.Linear(512,256),\r\n",
        "    nn.ReLU(),\r\n",
        "\r\n",
        "    nn.Linear(256,128),\r\n",
        "    nn.ReLU(),\r\n",
        "\r\n",
        "    nn.Linear(128,128),\r\n",
        "    nn.ReLU(),   \r\n",
        "\r\n",
        "    nn.Linear(128, 10)\r\n",
        "\r\n",
        "\r\n",
        "    )\r\n",
        "\r\n",
        "  def forward(self, x:torch.Tensor) -> torch.Tensor:\r\n",
        "    return self.net(x)"
      ],
      "execution_count": 48,
      "outputs": []
    },
    {
      "cell_type": "code",
      "metadata": {
        "colab": {
          "base_uri": "https://localhost:8080/"
        },
        "id": "qFcWEpp4R24d",
        "outputId": "4659c30c-ca38-48fc-eefe-e7fdc28e0cd1"
      },
      "source": [
        "model = FFN()\r\n",
        "opt = optim.SGD(model.parameters(), lr=1e-1)\r\n",
        "loss_fn = nn.CrossEntropyLoss()\r\n",
        "model.train()\r\n",
        "for epoch_int in range(10):\r\n",
        "  train_loss, train_acc = [], []\r\n",
        "  for (X, Y) in train_dl:\r\n",
        "    opt.zero_grad()\r\n",
        "    Yp = model(X)\r\n",
        "    loss = loss_fn(Yp, Y)\r\n",
        "    train_loss.append(loss.detach())\r\n",
        "    loss.backward()\r\n",
        "    opt.step()\r\n",
        "\r\n",
        "    accuracy = (Yp.argmax(1) == Y).float().mean()\r\n",
        "    train_acc.append(accuracy.detach())\r\n",
        "\r\n",
        "  print(f\"Epoch{epoch_int}\\t TRAIN loss={torch.stack(train_loss).mean()} \\t acc={torch.stack(train_acc).mean()}\")\r\n",
        "\r\n",
        "\r\n",
        "model.eval()\r\n",
        "for epoch_int in range(10):\r\n",
        "  val_loss, val_acc = [], []\r\n",
        "  for (X, Y) in train_dl:\r\n",
        "    opt.zero_grad()\r\n",
        "    Yp = model(X)\r\n",
        "    loss = loss_fn(Yp, Y)\r\n",
        "    val_loss.append(loss)\r\n",
        "    loss.backward()\r\n",
        "    opt.step()\r\n",
        "\r\n",
        "    accuracy = (Yp.argmax(1) == Y).float().mean()\r\n",
        "    val_acc.append(accuracy)    \r\n",
        "  print(f\"Epoch{epoch_int}\\t EVAL loss={torch.stack(val_loss).mean()} \\t acc={torch.stack(val_acc).mean()}\")"
      ],
      "execution_count": 66,
      "outputs": [
        {
          "output_type": "stream",
          "text": [
            "Epoch0\t TRAIN loss=2.219827651977539 \t acc=0.1592750996351242\n",
            "Epoch1\t TRAIN loss=2.030822277069092 \t acc=0.23459479212760925\n",
            "Epoch2\t TRAIN loss=1.8999775648117065 \t acc=0.3057105243206024\n",
            "Epoch3\t TRAIN loss=1.8127264976501465 \t acc=0.34137627482414246\n",
            "Epoch4\t TRAIN loss=1.7494510412216187 \t acc=0.364098459482193\n",
            "Epoch5\t TRAIN loss=1.6871492862701416 \t acc=0.38947010040283203\n",
            "Epoch6\t TRAIN loss=1.6394222974777222 \t acc=0.4069453477859497\n",
            "Epoch7\t TRAIN loss=1.5960769653320312 \t acc=0.42792919278144836\n",
            "Epoch8\t TRAIN loss=1.5554068088531494 \t acc=0.44206759333610535\n",
            "Epoch9\t TRAIN loss=1.5229648351669312 \t acc=0.4519261419773102\n",
            "Epoch0\t EVAL loss=1.4864853620529175 \t acc=0.4638267159461975\n",
            "Epoch1\t EVAL loss=1.4593309164047241 \t acc=0.47783327102661133\n",
            "Epoch2\t EVAL loss=1.4297394752502441 \t acc=0.4882872700691223\n",
            "Epoch3\t EVAL loss=1.3975046873092651 \t acc=0.49956440925598145\n",
            "Epoch4\t EVAL loss=1.3714148998260498 \t acc=0.5080442428588867\n",
            "Epoch5\t EVAL loss=1.3442362546920776 \t acc=0.5186900496482849\n",
            "Epoch6\t EVAL loss=1.3223705291748047 \t acc=0.5269581079483032\n",
            "Epoch7\t EVAL loss=1.2914905548095703 \t acc=0.5377157926559448\n",
            "Epoch8\t EVAL loss=1.2641183137893677 \t acc=0.5493686199188232\n",
            "Epoch9\t EVAL loss=1.2436572313308716 \t acc=0.5544397234916687\n"
          ],
          "name": "stdout"
        }
      ]
    }
  ]
}