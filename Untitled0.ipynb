{
  "nbformat": 4,
  "nbformat_minor": 0,
  "metadata": {
    "colab": {
      "name": "Untitled0.ipynb",
      "provenance": [],
      "collapsed_sections": []
    },
    "kernelspec": {
      "name": "python3",
      "display_name": "Python 3"
    }
  },
  "cells": [
    {
      "cell_type": "code",
      "metadata": {
        "id": "QoK5dqN60Xgr"
      },
      "source": [
        "import numpy as np\n",
        "import pandas as pd\n",
        "import matplotlib.pyplot as plt \n",
        "import sklearn\n",
        "from sklearn import datasets\n",
        "from sklearn.datasets import make_classification\n",
        "from sklearn.tree import DecisionTreeClassifier\n",
        "from sklearn.model_selection import train_test_split\n",
        "from sklearn.metrics import accuracy_score\n",
        "from sklearn.model_selection import cross_val_score\n",
        "from sklearn.datasets import load_breast_cancer\n",
        "from collections import Counter\n",
        "from sklearn.datasets import load_iris\n",
        "from random import randrange\n",
        "import math "
      ],
      "execution_count": 34,
      "outputs": []
    },
    {
      "cell_type": "code",
      "metadata": {
        "id": "0_v8T7hbN1iP",
        "outputId": "a9982dce-1144-43db-e83f-e8f71956a6ab",
        "colab": {
          "base_uri": "https://localhost:8080/",
          "height": 282
        }
      },
      "source": [
        "dataset , labels  = make_classification(n_samples = 100, n_features=2, n_informative=2, n_redundant=0,n_classes = 2, n_clusters_per_class = 2)\n",
        "plt.scatter(samples[:, 0], samples[:, 1], c=labels)"
      ],
      "execution_count": 35,
      "outputs": [
        {
          "output_type": "execute_result",
          "data": {
            "text/plain": [
              "<matplotlib.collections.PathCollection at 0x7febacd18dd8>"
            ]
          },
          "metadata": {
            "tags": []
          },
          "execution_count": 35
        },
        {
          "output_type": "display_data",
          "data": {
            "image/png": "[encoded data removed]",
            "text/plain": [
              "<Figure size 432x288 with 1 Axes>"
            ]
          },
          "metadata": {
            "tags": [],
            "needs_background": "light"
          }
        }
      ]
    },
    {
      "cell_type": "code",
      "metadata": {
        "id": "iIt8Fbf6OtCA"
      },
      "source": [
        "def cross_validation_split(dataset, n_folds):\n",
        "\tdataset_split = list()\n",
        "\tdataset_copy = list(dataset)\n",
        "\tfold_size = int(len(dataset) / n_folds)\n",
        "\tfor i in range(n_folds):\n",
        "\t\tfold = list()\n",
        "\t\twhile len(fold) < fold_size:\n",
        "\t\t\tindex = randrange(len(dataset_copy))\n",
        "\t\t\tfold.append(dataset_copy.pop(index))\n",
        "\t\tdataset_split.append(fold)\n",
        "\treturn dataset_split"
      ],
      "execution_count": 36,
      "outputs": []
    },
    {
      "cell_type": "code",
      "metadata": {
        "id": "hIT-b56-Pco1"
      },
      "source": [
        "def accuracy_metric(actual, predicted):\n",
        "\tcorrect = 0\n",
        "\tfor i in range(len(actual)):\n",
        "\t\tif actual[i] == predicted[i]:\n",
        "\t\t\tcorrect += 1\n",
        "\treturn correct / float(len(actual)) * 100.0\n",
        "\n",
        "def evaluate_algorithm(dataset, algorithm, n_folds, *args):\n",
        "\tfolds = cross_validation_split(dataset, n_folds)\n",
        "\tscores = list()\n",
        "\tfor fold in folds:\n",
        "\t\ttrain_set = list(folds)\n",
        "\t\ttrain_set.remove(fold)\n",
        "\t\ttrain_set = sum(train_set, [])\n",
        "\t\ttest_set = list()\n",
        "\t\tfor row in fold:\n",
        "\t\t\trow_copy = list(row)\n",
        "\t\t\ttest_set.append(row_copy)\n",
        "\t\t\trow_copy[-1] = None\n",
        "\t\tpredicted = algorithm(train_set, test_set, *args)\n",
        "\t\tactual = [row[-1] for row in fold]\n",
        "\t\taccuracy = accuracy_metric(actual, predicted)\n",
        "\t\tscores.append(accuracy)\n",
        "\treturn scores"
      ],
      "execution_count": 37,
      "outputs": []
    },
    {
      "cell_type": "code",
      "metadata": {
        "id": "URONJlF0PhiG"
      },
      "source": [
        "def test_split(index, value, dataset):\n",
        "    \"\"\"Разделение набора данных на основе атрибута и значения атрибута\"\"\"\n",
        "    left, right = list(), list()\n",
        "    for row in dataset:\n",
        "        if row[index] < value:\n",
        "            left.append(row)\n",
        "        else:\n",
        "            right.append(row)\n",
        "    return left, right"
      ],
      "execution_count": 38,
      "outputs": []
    },
    {
      "cell_type": "code",
      "metadata": {
        "id": "8Q3YdKzQPj_m"
      },
      "source": [
        "def entropy(p):\n",
        "    hist = np.bincount(p)\n",
        "    ps = hist / len(p)\n",
        "    return -np.sum([p * np.log2(p) for p in ps if p > 0])\n",
        "\n",
        "\n",
        "def gini_index(groups, classes):\n",
        "    \"\"\"Индекс Джини для разделенного набора данных\"\"\"\n",
        "    n_instances = float(sum([len(group) for group in groups]))\n",
        "    gini = 0.0\n",
        "    for group in groups:\n",
        "        size = float(len(group))\n",
        "        if size == 0:\n",
        "            continue\n",
        "        score = 0.0\n",
        "        for class_val in classes:\n",
        "            p = [row[-1] for row in group].count(class_val) / size\n",
        "            score += p*p\n",
        "        gini += (1 - score) * (size / n_instances)\n",
        "    return gini"
      ],
      "execution_count": 39,
      "outputs": []
    },
    {
      "cell_type": "code",
      "metadata": {
        "id": "AiPwWavoPmPW"
      },
      "source": [
        "def get_split(dataset):\n",
        "    \"\"\"Лучшая точка разделения для набора данных\"\"\"\n",
        "    class_values = list(set(row[-1] for row in dataset))\n",
        "    b_index, b_value, b_score, b_groups = 999, 999, 999, None\n",
        "    for index in range(len(dataset[0]) - 1):\n",
        "        for row in dataset:\n",
        "            groups = test_split(index, row[index], dataset)\n",
        "            gini = gini_index(groups, class_values)\n",
        "            print('X%d < %.3f Gini = %.3f' % ((index + 1), row[index], gini))\n",
        "\n",
        "            if gini < b_score:\n",
        "                b_index, b_value, b_score, b_groups = index, row[index], gini, groups\n",
        "    return {'index': b_index, 'value': b_value, 'groups': b_groups}"
      ],
      "execution_count": 40,
      "outputs": []
    },
    {
      "cell_type": "code",
      "metadata": {
        "id": "ydGSIt57PpAm"
      },
      "source": [
        "def to_terminal(group):\n",
        "    \"\"\"Значение терминального узла\"\"\"\n",
        "    outcomes = [row[-1] for row in group]\n",
        "    return max(set(outcomes), key=outcomes.count)"
      ],
      "execution_count": 41,
      "outputs": []
    },
    {
      "cell_type": "code",
      "metadata": {
        "id": "ivr1w94FPquu"
      },
      "source": [
        "def split(node, max_depth, min_size, depth):\n",
        "    left, right = node[\"groups\"]\n",
        "    del(node[\"groups\"])\n",
        "\n",
        "    if not left or not right:\n",
        "        node[\"left\"] = node[\"right\"] = to_terminal(left+right)\n",
        "        return\n",
        "    if depth >= max_depth:\n",
        "        node['left'], node['right'] = to_terminal(left), to_terminal(right)\n",
        "        return\n",
        "    if len(left) <= min_size:\n",
        "        node['left'] = to_terminal(left)\n",
        "    else:\n",
        "        node['left'] = get_split(left)\n",
        "        split(node['left'], max_depth, min_size, depth+1)\n",
        "\n",
        "    if len(right) <= min_size:\n",
        "        node['right'] = to_terminal(right)\n",
        "    else:\n",
        "        node['right'] = get_split(right)\n",
        "        split(node['right'], max_depth, min_size, depth+1)"
      ],
      "execution_count": 42,
      "outputs": []
    },
    {
      "cell_type": "code",
      "metadata": {
        "id": "frkwfQ35Ps9O"
      },
      "source": [
        "def build_tree(train, max_depth, min_size):\n",
        "    root = get_split(train)\n",
        "    split(root, max_depth, min_size, 1)\n",
        "    return root\n",
        "\n",
        "def print_tree(node, depth = 0):\n",
        "    if isinstance(node, dict):\n",
        "        print('%s[X%d < %.3f]' % ((depth * ' ', (node['index'] + 1), node['value'])))\n",
        "        print_tree(node['left'], depth + 1)\n",
        "        print_tree(node['right'], depth + 1)\n",
        "    else:\n",
        "        print('%s[%s]' % ((depth * ' ', node)))"
      ],
      "execution_count": 43,
      "outputs": []
    },
    {
      "cell_type": "code",
      "metadata": {
        "id": "xKKEtw2tPvxG"
      },
      "source": [
        "def predict(node, row):\n",
        "    if row[node['index']] < node['value']:\n",
        "        if isinstance(node['left'], dict):\n",
        "            return predict(node['left'], row)\n",
        "        else:\n",
        "            return node['left']\n",
        "    else:\n",
        "        if isinstance(node['right'], dict):\n",
        "            return predict(node['right'], row)\n",
        "        else:\n",
        "            return node['right']"
      ],
      "execution_count": 44,
      "outputs": []
    },
    {
      "cell_type": "code",
      "metadata": {
        "id": "mQAG-hTIPx32"
      },
      "source": [
        "def decision_tree(train, test, max_depth, min_size):\n",
        "    tree = build_tree(train, max_depth, min_size)\n",
        "    predictions = list()\n",
        "\n",
        "    for row in test:\n",
        "        prediction = predict(tree, row)\n",
        "        predictions.append(prediction)\n",
        "    return predictions"
      ],
      "execution_count": 45,
      "outputs": []
    },
    {
      "cell_type": "code",
      "metadata": {
        "id": "ZyeSFdtaP0FO",
        "outputId": "b909a0cd-ceb1-4306-de00-b159f3f24c02",
        "colab": {
          "base_uri": "https://localhost:8080/",
          "height": 1000
        }
      },
      "source": [
        "n_folds = 5\n",
        "max_depth = 5\n",
        "min_size = 10\n",
        "\n",
        "scores = evaluate_algorithm(dataset, decision_tree, n_folds, max_depth, min_size)\n",
        "print(\"Scores: %s\" %scores)\n",
        "print(\"Mean Accuracy: %.3f%%\" %(sum(scores)/float(len(scores))))"
      ],
      "execution_count": 47,
      "outputs": [
        {
          "output_type": "stream",
          "text": [
            "X1 < -0.894 Gini = 0.960\n",
            "X1 < -1.175 Gini = 0.960\n",
            "X1 < -2.113 Gini = 0.960\n",
            "X1 < -1.571 Gini = 0.960\n",
            "X1 < 1.378 Gini = 0.960\n",
            "X1 < 0.249 Gini = 0.960\n",
            "X1 < -1.071 Gini = 0.960\n",
            "X1 < -1.085 Gini = 0.960\n",
            "X1 < -0.241 Gini = 0.960\n",
            "X1 < -1.018 Gini = 0.960\n",
            "X1 < 0.996 Gini = 0.960\n",
            "X1 < 1.062 Gini = 0.960\n",
            "X1 < -0.201 Gini = 0.960\n",
            "X1 < -2.055 Gini = 0.960\n",
            "X1 < 2.042 Gini = 0.960\n",
            "X1 < -1.426 Gini = 0.960\n",
            "X1 < -1.523 Gini = 0.960\n",
            "X1 < 0.888 Gini = 0.960\n",
            "X1 < -1.086 Gini = 0.960\n",
            "X1 < 0.585 Gini = 0.960\n",
            "X1 < -2.146 Gini = 0.960\n",
            "X1 < -2.328 Gini = 0.960\n",
            "X1 < 1.460 Gini = 0.960\n",
            "X1 < -0.128 Gini = 0.960\n",
            "X1 < 1.881 Gini = 0.960\n",
            "X1 < 0.787 Gini = 0.960\n",
            "X1 < 1.254 Gini = 0.960\n",
            "X1 < 1.803 Gini = 0.960\n",
            "X1 < -1.091 Gini = 0.960\n",
            "X1 < 0.402 Gini = 0.960\n",
            "X1 < -0.449 Gini = 0.960\n",
            "X1 < -1.361 Gini = 0.960\n",
            "X1 < 0.355 Gini = 0.960\n",
            "X1 < -1.940 Gini = 0.960\n",
            "X1 < 1.688 Gini = 0.960\n",
            "X1 < 0.056 Gini = 0.960\n",
            "X1 < -2.476 Gini = 0.980\n",
            "X1 < 1.508 Gini = 0.960\n",
            "X1 < 3.157 Gini = 0.960\n",
            "X1 < -0.024 Gini = 0.960\n",
            "X1 < -0.802 Gini = 0.960\n",
            "X1 < -0.064 Gini = 0.960\n",
            "X1 < 1.040 Gini = 0.960\n",
            "X1 < 0.550 Gini = 0.960\n",
            "X1 < -0.723 Gini = 0.960\n",
            "X1 < -0.335 Gini = 0.960\n",
            "X1 < -0.099 Gini = 0.960\n",
            "X1 < 2.192 Gini = 0.960\n",
            "X1 < 1.103 Gini = 0.960\n",
            "X1 < -0.202 Gini = 0.960\n",
            "X1 < -1.175 Gini = 0.875\n",
            "X1 < -2.113 Gini = 0.875\n",
            "X1 < -1.571 Gini = 0.875\n",
            "X1 < -1.071 Gini = 0.875\n",
            "X1 < -1.085 Gini = 0.875\n",
            "X1 < -1.018 Gini = 0.875\n",
            "X1 < -2.055 Gini = 0.875\n",
            "X1 < -1.426 Gini = 0.875\n",
            "X1 < -1.523 Gini = 0.875\n",
            "X1 < -1.086 Gini = 0.875\n",
            "X1 < -2.146 Gini = 0.875\n",
            "X1 < -2.328 Gini = 0.875\n",
            "X1 < -1.091 Gini = 0.875\n",
            "X1 < -1.361 Gini = 0.875\n",
            "X1 < -1.940 Gini = 0.875\n",
            "X1 < -2.476 Gini = 0.938\n",
            "X1 < -0.894 Gini = 0.971\n",
            "X1 < 1.378 Gini = 0.941\n",
            "X1 < 0.249 Gini = 0.941\n",
            "X1 < -0.241 Gini = 0.941\n",
            "X1 < 0.996 Gini = 0.941\n",
            "X1 < 1.062 Gini = 0.941\n",
            "X1 < -0.201 Gini = 0.941\n",
            "X1 < 2.042 Gini = 0.941\n",
            "X1 < 0.888 Gini = 0.941\n",
            "X1 < 0.585 Gini = 0.941\n",
            "X1 < 1.460 Gini = 0.941\n",
            "X1 < -0.128 Gini = 0.941\n",
            "X1 < 1.881 Gini = 0.941\n",
            "X1 < 0.787 Gini = 0.941\n",
            "X1 < 1.254 Gini = 0.941\n",
            "X1 < 1.803 Gini = 0.941\n",
            "X1 < 0.402 Gini = 0.941\n",
            "X1 < -0.449 Gini = 0.941\n",
            "X1 < 0.355 Gini = 0.941\n",
            "X1 < 1.688 Gini = 0.941\n",
            "X1 < 0.056 Gini = 0.941\n",
            "X1 < 1.508 Gini = 0.941\n",
            "X1 < 3.157 Gini = 0.941\n",
            "X1 < -0.024 Gini = 0.941\n",
            "X1 < -0.802 Gini = 0.941\n",
            "X1 < -0.064 Gini = 0.941\n",
            "X1 < 1.040 Gini = 0.941\n",
            "X1 < 0.550 Gini = 0.941\n",
            "X1 < -0.723 Gini = 0.941\n",
            "X1 < -0.335 Gini = 0.941\n",
            "X1 < -0.099 Gini = 0.941\n",
            "X1 < 2.192 Gini = 0.941\n",
            "X1 < 1.103 Gini = 0.941\n",
            "X1 < -0.202 Gini = 0.941\n",
            "X1 < -0.894 Gini = 0.960\n",
            "X1 < 0.249 Gini = 0.920\n",
            "X1 < -0.241 Gini = 0.920\n",
            "X1 < 0.996 Gini = 0.920\n",
            "X1 < 1.062 Gini = 0.920\n",
            "X1 < -0.201 Gini = 0.920\n",
            "X1 < 0.888 Gini = 0.920\n",
            "X1 < 0.585 Gini = 0.920\n",
            "X1 < -0.128 Gini = 0.920\n",
            "X1 < 0.787 Gini = 0.920\n",
            "X1 < 1.254 Gini = 0.920\n",
            "X1 < 0.402 Gini = 0.920\n",
            "X1 < -0.449 Gini = 0.920\n",
            "X1 < 0.355 Gini = 0.920\n",
            "X1 < 0.056 Gini = 0.920\n",
            "X1 < -0.024 Gini = 0.920\n",
            "X1 < -0.802 Gini = 0.920\n",
            "X1 < -0.064 Gini = 0.920\n",
            "X1 < 1.040 Gini = 0.920\n",
            "X1 < 0.550 Gini = 0.920\n",
            "X1 < -0.723 Gini = 0.920\n",
            "X1 < -0.335 Gini = 0.920\n",
            "X1 < -0.099 Gini = 0.920\n",
            "X1 < 1.103 Gini = 0.920\n",
            "X1 < -0.202 Gini = 0.920\n",
            "X1 < -0.894 Gini = 0.923\n",
            "X1 < -0.241 Gini = 0.846\n",
            "X1 < -0.201 Gini = 0.846\n",
            "X1 < -0.128 Gini = 0.846\n",
            "X1 < -0.449 Gini = 0.846\n",
            "X1 < 0.056 Gini = 0.846\n",
            "X1 < -0.024 Gini = 0.846\n",
            "X1 < -0.802 Gini = 0.846\n",
            "X1 < -0.064 Gini = 0.846\n",
            "X1 < -0.723 Gini = 0.846\n",
            "X1 < -0.335 Gini = 0.846\n",
            "X1 < -0.099 Gini = 0.846\n",
            "X1 < -0.202 Gini = 0.846\n",
            "X1 < -0.894 Gini = 0.909\n",
            "X1 < -0.241 Gini = 0.818\n",
            "X1 < -0.201 Gini = 0.818\n",
            "X1 < -0.128 Gini = 0.818\n",
            "X1 < -0.449 Gini = 0.818\n",
            "X1 < -0.802 Gini = 0.818\n",
            "X1 < -0.064 Gini = 0.818\n",
            "X1 < -0.723 Gini = 0.818\n",
            "X1 < -0.335 Gini = 0.818\n",
            "X1 < -0.099 Gini = 0.818\n",
            "X1 < -0.202 Gini = 0.818\n",
            "X1 < 0.249 Gini = 0.917\n",
            "X1 < 0.996 Gini = 0.833\n",
            "X1 < 1.062 Gini = 0.833\n",
            "X1 < 0.888 Gini = 0.833\n",
            "X1 < 0.585 Gini = 0.833\n",
            "X1 < 0.787 Gini = 0.833\n",
            "X1 < 1.254 Gini = 0.833\n",
            "X1 < 0.402 Gini = 0.833\n",
            "X1 < 0.355 Gini = 0.833\n",
            "X1 < 1.040 Gini = 0.833\n",
            "X1 < 0.550 Gini = 0.833\n",
            "X1 < 1.103 Gini = 0.833\n"
          ],
          "name": "stdout"
        },
        {
          "output_type": "error",
          "ename": "ValueError",
          "evalue": "ignored",
          "traceback": [
            "\u001b[0;31m---------------------------------------------------------------------------\u001b[0m",
            "\u001b[0;31mValueError\u001b[0m                                Traceback (most recent call last)",
            "\u001b[0;32m<ipython-input-47-3534905460d1>\u001b[0m in \u001b[0;36m<module>\u001b[0;34m()\u001b[0m\n\u001b[1;32m      3\u001b[0m \u001b[0mmin_size\u001b[0m \u001b[0;34m=\u001b[0m \u001b[0;36m10\u001b[0m\u001b[0;34m\u001b[0m\u001b[0;34m\u001b[0m\u001b[0m\n\u001b[1;32m      4\u001b[0m \u001b[0;34m\u001b[0m\u001b[0m\n\u001b[0;32m----> 5\u001b[0;31m \u001b[0mscores\u001b[0m \u001b[0;34m=\u001b[0m \u001b[0mevaluate_algorithm\u001b[0m\u001b[0;34m(\u001b[0m\u001b[0mdataset\u001b[0m\u001b[0;34m,\u001b[0m \u001b[0mdecision_tree\u001b[0m\u001b[0;34m,\u001b[0m \u001b[0mn_folds\u001b[0m\u001b[0;34m,\u001b[0m \u001b[0mmax_depth\u001b[0m\u001b[0;34m,\u001b[0m \u001b[0mmin_size\u001b[0m\u001b[0;34m)\u001b[0m\u001b[0;34m\u001b[0m\u001b[0;34m\u001b[0m\u001b[0m\n\u001b[0m\u001b[1;32m      6\u001b[0m \u001b[0mprint\u001b[0m\u001b[0;34m(\u001b[0m\u001b[0;34m\"Scores: %s\"\u001b[0m \u001b[0;34m%\u001b[0m\u001b[0mscores\u001b[0m\u001b[0;34m)\u001b[0m\u001b[0;34m\u001b[0m\u001b[0;34m\u001b[0m\u001b[0m\n\u001b[1;32m      7\u001b[0m \u001b[0mprint\u001b[0m\u001b[0;34m(\u001b[0m\u001b[0;34m\"Mean Accuracy: %.3f%%\"\u001b[0m \u001b[0;34m%\u001b[0m\u001b[0;34m(\u001b[0m\u001b[0msum\u001b[0m\u001b[0;34m(\u001b[0m\u001b[0mscores\u001b[0m\u001b[0;34m)\u001b[0m\u001b[0;34m/\u001b[0m\u001b[0mfloat\u001b[0m\u001b[0;34m(\u001b[0m\u001b[0mlen\u001b[0m\u001b[0;34m(\u001b[0m\u001b[0mscores\u001b[0m\u001b[0;34m)\u001b[0m\u001b[0;34m)\u001b[0m\u001b[0;34m)\u001b[0m\u001b[0;34m)\u001b[0m\u001b[0;34m\u001b[0m\u001b[0;34m\u001b[0m\u001b[0m\n",
            "\u001b[0;32m<ipython-input-37-46e38c81e084>\u001b[0m in \u001b[0;36mevaluate_algorithm\u001b[0;34m(dataset, algorithm, n_folds, *args)\u001b[0m\n\u001b[1;32m     11\u001b[0m         \u001b[0;32mfor\u001b[0m \u001b[0mfold\u001b[0m \u001b[0;32min\u001b[0m \u001b[0mfolds\u001b[0m\u001b[0;34m:\u001b[0m\u001b[0;34m\u001b[0m\u001b[0;34m\u001b[0m\u001b[0m\n\u001b[1;32m     12\u001b[0m                 \u001b[0mtrain_set\u001b[0m \u001b[0;34m=\u001b[0m \u001b[0mlist\u001b[0m\u001b[0;34m(\u001b[0m\u001b[0mfolds\u001b[0m\u001b[0;34m)\u001b[0m\u001b[0;34m\u001b[0m\u001b[0;34m\u001b[0m\u001b[0m\n\u001b[0;32m---> 13\u001b[0;31m                 \u001b[0mtrain_set\u001b[0m\u001b[0;34m.\u001b[0m\u001b[0mremove\u001b[0m\u001b[0;34m(\u001b[0m\u001b[0mfold\u001b[0m\u001b[0;34m)\u001b[0m\u001b[0;34m\u001b[0m\u001b[0;34m\u001b[0m\u001b[0m\n\u001b[0m\u001b[1;32m     14\u001b[0m                 \u001b[0mtrain_set\u001b[0m \u001b[0;34m=\u001b[0m \u001b[0msum\u001b[0m\u001b[0;34m(\u001b[0m\u001b[0mtrain_set\u001b[0m\u001b[0;34m,\u001b[0m \u001b[0;34m[\u001b[0m\u001b[0;34m]\u001b[0m\u001b[0;34m)\u001b[0m\u001b[0;34m\u001b[0m\u001b[0;34m\u001b[0m\u001b[0m\n\u001b[1;32m     15\u001b[0m                 \u001b[0mtest_set\u001b[0m \u001b[0;34m=\u001b[0m \u001b[0mlist\u001b[0m\u001b[0;34m(\u001b[0m\u001b[0;34m)\u001b[0m\u001b[0;34m\u001b[0m\u001b[0;34m\u001b[0m\u001b[0m\n",
            "\u001b[0;31mValueError\u001b[0m: The truth value of an array with more than one element is ambiguous. Use a.any() or a.all()"
          ]
        }
      ]
    }
  ]
}